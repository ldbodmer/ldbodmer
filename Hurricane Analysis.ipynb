{
 "cells": [
  {
   "cell_type": "markdown",
   "id": "58875e7a",
   "metadata": {},
   "source": [
    "# Hurricane Analysis"
   ]
  },
  {
   "cell_type": "markdown",
   "id": "9a2d9627",
   "metadata": {},
   "source": [
    "#### Overview"
   ]
  },
  {
   "cell_type": "markdown",
   "id": "633e5dde",
   "metadata": {},
   "source": [
    "This project is slightly different than others you have encountered thus far. Instead of a step-by-step tutorial, this project contains a series of open-ended requirements which describe the project you'll be building. There are many possible ways to correctly fulfill all of these requirements, and you should expect to use the internet, Codecademy, and other resources when you encounter a problem that you cannot easily solve."
   ]
  },
  {
   "cell_type": "markdown",
   "id": "52f01f07",
   "metadata": {},
   "source": [
    "#### Project Goals"
   ]
  },
  {
   "cell_type": "markdown",
   "id": "d9d06c43",
   "metadata": {},
   "source": [
    "You will work to write several functions that organize and manipulate data about Category 5 Hurricanes, the strongest hurricanes as rated by their wind speed. Each one of these functions will use a number of parameters, conditionals, lists, dictionaries, string manipulation, and return statements."
   ]
  },
  {
   "cell_type": "markdown",
   "id": "7fbb9fb5",
   "metadata": {},
   "source": [
    "#### Prerequisites"
   ]
  },
  {
   "cell_type": "markdown",
   "id": "4732a1e8",
   "metadata": {},
   "source": [
    "In order to complete this project, you should have completed the Loops and Dictionaries sections of the [Learn Python 3 Course](https://www.codecademy.com/learn/learn-python-3). This content is also covered in the [Data Scientist Career Path](https://www.codecademy.com/learn/paths/data-science/)."
   ]
  },
  {
   "cell_type": "markdown",
   "id": "1e924903",
   "metadata": {},
   "source": [
    "## Project Requirements"
   ]
  },
  {
   "cell_type": "markdown",
   "id": "35d6f74d",
   "metadata": {},
   "source": [
    "1. Hurricanes, also known as cyclones or typhoons, are one of the most powerful forces of nature on Earth. Due to climate change caused by human activity, the number and intensity of hurricanes has risen, calling for better preparation by the many communities that are devastated by them. As a concerned environmentalist, you want to look at data about the most powerful hurricanes that have occured. \n",
    "\n",
    "   Begin by looking at the `damages` list. The list contains strings representing the total cost in USD(`$`) caused by `34` category 5 hurricanes (wind speeds $\\ge$ 157 mph (252 km/h)) in the Atlantic region. For some of the hurricanes, damage data was not recorded (`\"Damages not recorded\"`), while the rest are written in the format `\"Prefix-B/M\"`, where `B` stands for billions (`1000000000`) and `M` stands for millions (`1000000`).\n",
    "   \n",
    "   Write a function that returns a new list of updated damages where the recorded data is converted to float values and the missing data is retained as `\"Damages not recorded\"`.\n",
    "   \n",
    "   Test your function with the data stored in `damages`."
   ]
  },
  {
   "cell_type": "code",
   "execution_count": 13,
   "id": "d8d3c50b",
   "metadata": {},
   "outputs": [
    {
     "name": "stdout",
     "output_type": "stream",
     "text": [
      "['Damages not recorded', 100000000.0, 'Damages not recorded', 40000000.0, 27900000.0, 5000000.0, 'Damages not recorded', 306000000.0, 2000000.0, 65800000.0, 326000000.0, 60300000.0, 208000000.0, 1420000000.0, 25400000.0, 'Damages not recorded', 1540000000.0, 1240000000.0, 7100000000.0, 10000000000.0, 26500000000.0, 6200000000.0, 5370000000.0, 23300000000.0, 1010000000.0, 125000000000.0, 12000000000.0, 29400000000.0, 1760000000.0, 720000000.0, 15100000000.0, 64800000000.0, 91600000000.0, 25100000000.0]\n"
     ]
    }
   ],
   "source": [
    "# damages (USD($)) of hurricanes\n",
    "damages = ['Damages not recorded', '100M', 'Damages not recorded', '40M',\n",
    "          '27.9M', '5M', 'Damages not recorded', '306M', '2M', '65.8M',\n",
    "          '326M', '60.3M', '208M', '1.42B', '25.4M', 'Damages not recorded',\n",
    "          '1.54B', '1.24B', '7.1B', '10B', '26.5B', '6.2B', '5.37B', '23.3B',\n",
    "          '1.01B', '125B', '12B', '29.4B', '1.76B', '720M', '15.1B', '64.8B',\n",
    "          '91.6B', '25.1B']\n",
    "\n",
    "# 1\n",
    "# Update Recorded Damages\n",
    "conversion = {\"M\": 1000000,\n",
    "             \"B\": 1000000000}\n",
    "\n",
    "# test function by updating damages\n",
    "def update_damages(damages, conversion):\n",
    "    for item in damages:\n",
    "        if item =='Damages not recorded':\n",
    "            continue\n",
    "        if 'M' in item:\n",
    "            index = damages.index(item)\n",
    "            #strip off last character, convert to float, multiply by conversion['M']\n",
    "            item = float(item.strip('M'))*conversion['M']\n",
    "            damages[index]=item\n",
    "            continue\n",
    "        if 'B' in item:\n",
    "            index = damages.index(item)\n",
    "            #strip off last character, convert to float, multiply by conversion['M']\n",
    "            item = float(item.strip('B'))*conversion['B']\n",
    "            damages[index]=item       \n",
    "\n",
    "            \n",
    "    print(damages)\n",
    "update_damages(damages, conversion)"
   ]
  },
  {
   "cell_type": "markdown",
   "id": "36ac47b6",
   "metadata": {},
   "source": [
    "2. Additional data collected on the `34` strongest Atlantic hurricanes are provided in a series of lists. The data includes:\n",
    "   - `names`: names of the hurricanes\n",
    "   - `months`: months in which the hurricanes occurred\n",
    "   - `years`: years in which the hurricanes occurred\n",
    "   - `max_sustained_winds`: maximum sustained winds (miles per hour) of the hurricanes\n",
    "   - `areas_affected`: list of different areas affected by each of the hurricanes\n",
    "   - `deaths`: total number of deaths caused by each of the hurricanes\n",
    "   \n",
    "   The data is organized such that the data at each index, from `0` to `33`, corresponds to the same hurricane.\n",
    "   \n",
    "   For example, `names[0]` yields the \"Cuba I\" hurricane, which occurred in `months[0]` (October) `years[0]` (1924).\n",
    "   \n",
    "   Write a function that constructs a dictionary made out of the lists, where the keys of the dictionary are the names of the hurricanes, and the values are dictionaries themselves containing a key for each piece of data (`Name`, `Month`, `Year`, `Max Sustained Wind`, `Areas Affected`, `Damage`, `Death`) about the hurricane.\n",
    "   \n",
    "   Thus the key `\"Cuba I\"` would have the value: `{'Name': 'Cuba I', 'Month': 'October', 'Year': 1924, 'Max Sustained Wind': 165, 'Areas Affected': ['Central America', 'Mexico', 'Cuba', 'Florida', 'The Bahamas'], 'Damage': 'Damages not recorded', 'Deaths': 90}`.\n",
    "   \n",
    "   Test your function on the lists of data provided."
   ]
  },
  {
   "cell_type": "code",
   "execution_count": 76,
   "id": "641aa113",
   "metadata": {},
   "outputs": [
    {
     "name": "stdout",
     "output_type": "stream",
     "text": [
      "{'name': 'New England', 'months': 'September', 'year': 1938, 'max_sustained_winds': 160, 'areas_affected': ['Southeastern United States', 'Northeastern United States', 'Southwestern Quebec'], 'damages': '306M', 'deaths': 682}\n",
      "{'Cuba I': {'name': 'Cuba I', 'months': 'October', 'year': 1924, 'max_sustained_winds': 165, 'areas_affected': ['Central America', 'Mexico', 'Cuba', 'Florida', 'The Bahamas'], 'damages': 'Damages not recorded', 'deaths': 90}, 'San Felipe II Okeechobee': {'name': 'San Felipe II Okeechobee', 'months': 'September', 'year': 1928, 'max_sustained_winds': 160, 'areas_affected': ['Lesser Antilles', 'The Bahamas', 'United States East Coast', 'Atlantic Canada'], 'damages': '100M', 'deaths': 4000}, 'Bahamas': {'name': 'Bahamas', 'months': 'September', 'year': 1932, 'max_sustained_winds': 160, 'areas_affected': ['The Bahamas', 'Northeastern United States'], 'damages': 'Damages not recorded', 'deaths': 16}, 'Cuba II': {'name': 'Cuba II', 'months': 'November', 'year': 1932, 'max_sustained_winds': 175, 'areas_affected': ['Lesser Antilles', 'Jamaica', 'Cayman Islands', 'Cuba', 'The Bahamas', 'Bermuda'], 'damages': '40M', 'deaths': 3103}, 'CubaBrownsville': {'name': 'CubaBrownsville', 'months': 'August', 'year': 1933, 'max_sustained_winds': 160, 'areas_affected': ['The Bahamas', 'Cuba', 'Florida', 'Texas', 'Tamaulipas'], 'damages': '27.9M', 'deaths': 179}, 'Tampico': {'name': 'Tampico', 'months': 'September', 'year': 1933, 'max_sustained_winds': 160, 'areas_affected': ['Jamaica', 'Yucatn Peninsula'], 'damages': '5M', 'deaths': 184}, 'Labor Day': {'name': 'Labor Day', 'months': 'September', 'year': 1935, 'max_sustained_winds': 185, 'areas_affected': ['The Bahamas', 'Florida', 'Georgia', 'The Carolinas', 'Virginia'], 'damages': 'Damages not recorded', 'deaths': 408}, 'New England': {'name': 'New England', 'months': 'September', 'year': 1938, 'max_sustained_winds': 160, 'areas_affected': ['Southeastern United States', 'Northeastern United States', 'Southwestern Quebec'], 'damages': '306M', 'deaths': 682}, 'Carol': {'name': 'Carol', 'months': 'September', 'year': 1953, 'max_sustained_winds': 160, 'areas_affected': ['Bermuda', 'New England', 'Atlantic Canada'], 'damages': '2M', 'deaths': 5}, 'Janet': {'name': 'Janet', 'months': 'September', 'year': 1955, 'max_sustained_winds': 175, 'areas_affected': ['Lesser Antilles', 'Central America'], 'damages': '65.8M', 'deaths': 1023}, 'Carla': {'name': 'Carla', 'months': 'September', 'year': 1961, 'max_sustained_winds': 175, 'areas_affected': ['Texas', 'Louisiana', 'Midwestern United States'], 'damages': '326M', 'deaths': 43}, 'Hattie': {'name': 'Hattie', 'months': 'October', 'year': 1961, 'max_sustained_winds': 160, 'areas_affected': ['Central America'], 'damages': '60.3M', 'deaths': 319}, 'Beulah': {'name': 'Beulah', 'months': 'September', 'year': 1967, 'max_sustained_winds': 160, 'areas_affected': ['The Caribbean', 'Mexico', 'Texas'], 'damages': '208M', 'deaths': 688}, 'Camille': {'name': 'Camille', 'months': 'August', 'year': 1969, 'max_sustained_winds': 175, 'areas_affected': ['Cuba', 'United States Gulf Coast'], 'damages': '1.42B', 'deaths': 259}, 'Edith': {'name': 'Edith', 'months': 'September', 'year': 1971, 'max_sustained_winds': 160, 'areas_affected': ['The Caribbean', 'Central America', 'Mexico', 'United States Gulf Coast'], 'damages': '25.4M', 'deaths': 37}, 'Anita': {'name': 'Anita', 'months': 'September', 'year': 1977, 'max_sustained_winds': 175, 'areas_affected': ['Mexico'], 'damages': 'Damages not recorded', 'deaths': 11}, 'David': {'name': 'David', 'months': 'August', 'year': 1979, 'max_sustained_winds': 175, 'areas_affected': ['The Caribbean', 'United States East coast'], 'damages': '1.54B', 'deaths': 2068}, 'Allen': {'name': 'Allen', 'months': 'August', 'year': 1980, 'max_sustained_winds': 190, 'areas_affected': ['The Caribbean', 'Yucatn Peninsula', 'Mexico', 'South Texas'], 'damages': '1.24B', 'deaths': 269}, 'Gilbert': {'name': 'Gilbert', 'months': 'September', 'year': 1988, 'max_sustained_winds': 185, 'areas_affected': ['Jamaica', 'Venezuela', 'Central America', 'Hispaniola', 'Mexico'], 'damages': '7.1B', 'deaths': 318}, 'Hugo': {'name': 'Hugo', 'months': 'September', 'year': 1989, 'max_sustained_winds': 160, 'areas_affected': ['The Caribbean', 'United States East Coast'], 'damages': '10B', 'deaths': 107}, 'Andrew': {'name': 'Andrew', 'months': 'August', 'year': 1992, 'max_sustained_winds': 175, 'areas_affected': ['The Bahamas', 'Florida', 'United States Gulf Coast'], 'damages': '26.5B', 'deaths': 65}, 'Mitch': {'name': 'Mitch', 'months': 'October', 'year': 1998, 'max_sustained_winds': 180, 'areas_affected': ['Central America', 'Yucatn Peninsula', 'South Florida'], 'damages': '6.2B', 'deaths': 19325}, 'Isabel': {'name': 'Isabel', 'months': 'September', 'year': 2003, 'max_sustained_winds': 165, 'areas_affected': ['Greater Antilles', 'Bahamas', 'Eastern United States', 'Ontario'], 'damages': '5.37B', 'deaths': 51}, 'Ivan': {'name': 'Ivan', 'months': 'September', 'year': 2004, 'max_sustained_winds': 165, 'areas_affected': ['The Caribbean', 'Venezuela', 'United States Gulf Coast'], 'damages': '23.3B', 'deaths': 124}, 'Emily': {'name': 'Emily', 'months': 'July', 'year': 2005, 'max_sustained_winds': 160, 'areas_affected': ['Windward Islands', 'Jamaica', 'Mexico', 'Texas'], 'damages': '1.01B', 'deaths': 17}, 'Katrina': {'name': 'Katrina', 'months': 'August', 'year': 2005, 'max_sustained_winds': 175, 'areas_affected': ['Bahamas', 'United States Gulf Coast'], 'damages': '125B', 'deaths': 1836}, 'Rita': {'name': 'Rita', 'months': 'September', 'year': 2005, 'max_sustained_winds': 180, 'areas_affected': ['Cuba', 'United States Gulf Coast'], 'damages': '12B', 'deaths': 125}, 'Wilma': {'name': 'Wilma', 'months': 'October', 'year': 2005, 'max_sustained_winds': 185, 'areas_affected': ['Greater Antilles', 'Central America', 'Florida'], 'damages': '29.4B', 'deaths': 87}, 'Dean': {'name': 'Dean', 'months': 'August', 'year': 2007, 'max_sustained_winds': 175, 'areas_affected': ['The Caribbean', 'Central America'], 'damages': '1.76B', 'deaths': 45}, 'Felix': {'name': 'Felix', 'months': 'September', 'year': 2007, 'max_sustained_winds': 175, 'areas_affected': ['Nicaragua', 'Honduras'], 'damages': '720M', 'deaths': 133}, 'Matthew': {'name': 'Matthew', 'months': 'October', 'year': 2016, 'max_sustained_winds': 165, 'areas_affected': ['Antilles', 'Venezuela', 'Colombia', 'United States East Coast', 'Atlantic Canada'], 'damages': '15.1B', 'deaths': 603}, 'Irma': {'name': 'Irma', 'months': 'September', 'year': 2017, 'max_sustained_winds': 180, 'areas_affected': ['Cape Verde', 'The Caribbean', 'British Virgin Islands', 'U.S. Virgin Islands', 'Cuba', 'Florida'], 'damages': '64.8B', 'deaths': 138}, 'Maria': {'name': 'Maria', 'months': 'September', 'year': 2017, 'max_sustained_winds': 175, 'areas_affected': ['Lesser Antilles', 'Virgin Islands', 'Puerto Rico', 'Dominican Republic', 'Turks and Caicos Islands'], 'damages': '91.6B', 'deaths': 3057}, 'Michael': {'name': 'Michael', 'months': 'October', 'year': 2018, 'max_sustained_winds': 160, 'areas_affected': ['Central America', 'United States Gulf Coast (especially Florida Panhandle)'], 'damages': '25.1B', 'deaths': 74}}\n"
     ]
    }
   ],
   "source": [
    "# names of hurricanes\n",
    "names = ['Cuba I', 'San Felipe II Okeechobee', 'Bahamas', 'Cuba II', 'CubaBrownsville', 'Tampico', 'Labor Day', 'New England', 'Carol', 'Janet', 'Carla', 'Hattie', 'Beulah', 'Camille', 'Edith', 'Anita', 'David', 'Allen', 'Gilbert', 'Hugo', 'Andrew', 'Mitch', 'Isabel', 'Ivan', 'Emily', 'Katrina', 'Rita', 'Wilma', 'Dean', 'Felix', 'Matthew', 'Irma', 'Maria', 'Michael']\n",
    "\n",
    "# months of hurricanes\n",
    "months = ['October', 'September', 'September', 'November', 'August', 'September', 'September', 'September', 'September', 'September', 'September', 'October', 'September', 'August', 'September', 'September', 'August', 'August', 'September', 'September', 'August', 'October', 'September', 'September', 'July', 'August', 'September', 'October', 'August', 'September', 'October', 'September', 'September', 'October']\n",
    "\n",
    "# years of hurricanes\n",
    "years = [1924, 1928, 1932, 1932, 1933, 1933, 1935, 1938, 1953, 1955, 1961, 1961, 1967, 1969, 1971, 1977, 1979, 1980, 1988, 1989, 1992, 1998, 2003, 2004, 2005, 2005, 2005, 2005, 2007, 2007, 2016, 2017, 2017, 2018]\n",
    "\n",
    "# maximum sustained winds (mph) of hurricanes\n",
    "max_sustained_winds = [165, 160, 160, 175, 160, 160, 185, 160, 160, 175, 175, 160, 160, 175, 160, 175, 175, 190, 185, 160, 175, 180, 165, 165, 160, 175, 180, 185, 175, 175, 165, 180, 175, 160]\n",
    "\n",
    "# areas affected by each hurricane\n",
    "areas_affected = [['Central America', 'Mexico', 'Cuba', 'Florida', 'The Bahamas'], ['Lesser Antilles', 'The Bahamas', 'United States East Coast', 'Atlantic Canada'], ['The Bahamas', 'Northeastern United States'], ['Lesser Antilles', 'Jamaica', 'Cayman Islands', 'Cuba', 'The Bahamas', 'Bermuda'], ['The Bahamas', 'Cuba', 'Florida', 'Texas', 'Tamaulipas'], ['Jamaica', 'Yucatn Peninsula'], ['The Bahamas', 'Florida', 'Georgia', 'The Carolinas', 'Virginia'], ['Southeastern United States', 'Northeastern United States', 'Southwestern Quebec'], ['Bermuda', 'New England', 'Atlantic Canada'], ['Lesser Antilles', 'Central America'], ['Texas', 'Louisiana', 'Midwestern United States'], ['Central America'], ['The Caribbean', 'Mexico', 'Texas'], ['Cuba', 'United States Gulf Coast'], ['The Caribbean', 'Central America', 'Mexico', 'United States Gulf Coast'], ['Mexico'], ['The Caribbean', 'United States East coast'], ['The Caribbean', 'Yucatn Peninsula', 'Mexico', 'South Texas'], ['Jamaica', 'Venezuela', 'Central America', 'Hispaniola', 'Mexico'], ['The Caribbean', 'United States East Coast'], ['The Bahamas', 'Florida', 'United States Gulf Coast'], ['Central America', 'Yucatn Peninsula', 'South Florida'], ['Greater Antilles', 'Bahamas', 'Eastern United States', 'Ontario'], ['The Caribbean', 'Venezuela', 'United States Gulf Coast'], ['Windward Islands', 'Jamaica', 'Mexico', 'Texas'], ['Bahamas', 'United States Gulf Coast'], ['Cuba', 'United States Gulf Coast'], ['Greater Antilles', 'Central America', 'Florida'], ['The Caribbean', 'Central America'], ['Nicaragua', 'Honduras'], ['Antilles', 'Venezuela', 'Colombia', 'United States East Coast', 'Atlantic Canada'], ['Cape Verde', 'The Caribbean', 'British Virgin Islands', 'U.S. Virgin Islands', 'Cuba', 'Florida'], ['Lesser Antilles', 'Virgin Islands', 'Puerto Rico', 'Dominican Republic', 'Turks and Caicos Islands'], ['Central America', 'United States Gulf Coast (especially Florida Panhandle)']]\n",
    "\n",
    "# damages (USD($)) of hurricanes\n",
    "damages = ['Damages not recorded', '100M', 'Damages not recorded', '40M', '27.9M', '5M', 'Damages not recorded', '306M', '2M', '65.8M', '326M', '60.3M', '208M', '1.42B', '25.4M', 'Damages not recorded', '1.54B', '1.24B', '7.1B', '10B', '26.5B', '6.2B', '5.37B', '23.3B', '1.01B', '125B', '12B', '29.4B', '1.76B', '720M', '15.1B', '64.8B', '91.6B', '25.1B']\n",
    "\n",
    "# deaths for each hurricane\n",
    "deaths = [90,4000,16,3103,179,184,408,682,5,1023,43,319,688,259,37,11,2068,269,318,107,65,19325,51,124,17,1836,125,87,45,133,603,138,3057,74]\n",
    "\n",
    "# 2\n",
    "# Create a Table\n",
    "def by_name_hurricane_dic(names,months,years, max_sustained_winds, areas_affected, damages, deaths):\n",
    "    #create individual dictionaries for each hurricane\n",
    "    i=0\n",
    "    by_name={}\n",
    "    for i in range(len(names)):\n",
    "        \n",
    "        hurricanes={'name':names[i], 'months':months[i], 'year':years[i], 'max_sustained_winds':max_sustained_winds[i],\n",
    "                    'areas_affected':areas_affected[i], 'damages':damages[i], 'deaths':deaths[i]}\n",
    "        by_name[names[i]] = hurricanes\n",
    "    return by_name\n",
    "print(by_name_hurricane_dic(names,months,years, max_sustained_winds, areas_affected, damages, deaths)['New England'])\n",
    "\n",
    "# Create and view the hurricanes dictionary\n",
    "by_name_dic=by_name_hurricane_dic(names,months,years, max_sustained_winds, areas_affected, damages, deaths)\n",
    "print(by_name_dic)\n",
    "\n"
   ]
  },
  {
   "cell_type": "markdown",
   "id": "6d0a1933",
   "metadata": {},
   "source": [
    "3. In addition to organizing the hurricanes in a dictionary with names as the key, you want to be able to organize the hurricanes by year.\n",
    "\n",
    "   Write a function that converts the current dictionary of hurricanes to a new dictionary, where the keys are years and the values are lists containing a dictionary for each hurricane that occurred in that year.\n",
    "   \n",
    "   For example, the key `1932` would yield the value: `[{'Name': 'Bahamas', 'Month': 'September', 'Year': 1932, 'Max Sustained Wind': 160, 'Areas Affected': ['The Bahamas', 'Northeastern United States'], 'Damage': 'Damage not recorded', 'Deaths': 16}, {'Name': 'Cuba II', 'Month': 'November', 'Year': 1932, 'Max Sustained Wind': 175, 'Areas Affected': ['Lesser Antilles', 'Jamaica', 'Cayman Islands', 'Cuba', 'The Bahamas', 'Bermuda'], 'Damage': 40000000.0, 'Deaths': 3103}]`.\n",
    "   \n",
    "   Test your function on your hurricane dictionary."
   ]
  },
  {
   "cell_type": "code",
   "execution_count": 88,
   "id": "1ef2edea",
   "metadata": {},
   "outputs": [
    {
     "name": "stdout",
     "output_type": "stream",
     "text": [
      "[{'name': 'Emily', 'months': 'July', 'year': 2005, 'max_sustained_winds': 160, 'areas_affected': ['Windward Islands', 'Jamaica', 'Mexico', 'Texas'], 'damages': '1.01B', 'deaths': 17}, [{'name': 'Katrina', 'months': 'August', 'year': 2005, 'max_sustained_winds': 175, 'areas_affected': ['Bahamas', 'United States Gulf Coast'], 'damages': '125B', 'deaths': 1836}], [{'name': 'Rita', 'months': 'September', 'year': 2005, 'max_sustained_winds': 180, 'areas_affected': ['Cuba', 'United States Gulf Coast'], 'damages': '12B', 'deaths': 125}], [{'name': 'Wilma', 'months': 'October', 'year': 2005, 'max_sustained_winds': 185, 'areas_affected': ['Greater Antilles', 'Central America', 'Florida'], 'damages': '29.4B', 'deaths': 87}]]\n"
     ]
    }
   ],
   "source": [
    "# 3\n",
    "# Organizing by Year\n",
    "storms=by_name_hurricane_dic(names,months,years, max_sustained_winds, areas_affected, damages, deaths)\n",
    "def by_year_hurricane_dic(names,months,years, max_sustained_winds, areas_affected, damages, deaths):\n",
    "    #create individual dictionaries for each hurricane\n",
    "    i=0\n",
    "    by_year={}\n",
    "    for storm in storms:\n",
    "        current_year=storms[storm]['year']\n",
    "        current_storm=storms[storm]\n",
    "        if current_year not in by_year:\n",
    "            by_year[current_year]=[current_storm]\n",

    "        else:\n",
    "            by_year[current_year].append([current_storm])\n",
    "        
    "    return by_year\n",
    "\n",
    "by_year_dic=by_year_hurricane_dic(names,months,years, max_sustained_winds, areas_affected, damages, deaths)\n",
    "#print(by_year_dic)\n",
    "print(by_year_dic[2005])"
   ]
  },
  {
   "cell_type": "markdown",
   "id": "66973f77",
   "metadata": {},
   "source": [
    "4. You believe that knowing how often each of the areas of the Atlantic are affected by these strong hurricanes is important for making preparations for future hurricanes.\n",
    "\n",
    "   Write a function that counts how often each area is listed as an affected area of a hurricane. Store and return the results in a dictionary where the keys are the affected areas and the values are counts of how many times the areas were affected.\n",
    "   \n",
    "   Test your function on your hurricane dictionary."
   ]
  },
  {
   "cell_type": "code",
   "execution_count": 164,
   "id": "bff86f77",
   "metadata": {},
   "outputs": [
    {
     "name": "stdout",
     "output_type": "stream",
     "text": [
      "{'Central America': 9, 'Mexico': 7, 'Cuba': 6, 'Florida': 6, 'The Bahamas': 7, 'Lesser Antilles': 4, 'United States East Coast': 3, 'Atlantic Canada': 3, 'Northeastern United States': 2, 'Jamaica': 4, 'Cayman Islands': 1, 'Bermuda': 2, 'Texas': 4, 'Tamaulipas': 1, 'Yucatn Peninsula': 3, 'Georgia': 1, 'The Carolinas': 1, 'Virginia': 1, 'Southeastern United States': 1, 'Southwestern Quebec': 1, 'New England': 1, 'Louisiana': 1, 'Midwestern United States': 1, 'The Caribbean': 8, 'United States Gulf Coast': 6, 'United States East coast': 1, 'South Texas': 1, 'Venezuela': 3, 'Hispaniola': 1, 'South Florida': 1, 'Greater Antilles': 2, 'Bahamas': 2, 'Eastern United States': 1, 'Ontario': 1, 'Windward Islands': 1, 'Nicaragua': 1, 'Honduras': 1, 'Antilles': 1, 'Colombia': 1, 'Cape Verde': 1, 'British Virgin Islands': 1, 'U.S. Virgin Islands': 1, 'Virgin Islands': 1, 'Puerto Rico': 1, 'Dominican Republic': 1, 'Turks and Caicos Islands': 1, 'United States Gulf Coast (especially Florida Panhandle)': 1}\n"
     ]
    }
   ],
   "source": [
    "# 4\n",
    "areas_affected = [['Central America', 'Mexico', 'Cuba', 'Florida', 'The Bahamas'], ['Lesser Antilles', 'The Bahamas', 'United States East Coast', 'Atlantic Canada'], ['The Bahamas', 'Northeastern United States'], ['Lesser Antilles', 'Jamaica', 'Cayman Islands', 'Cuba', 'The Bahamas', 'Bermuda'], ['The Bahamas', 'Cuba', 'Florida', 'Texas', 'Tamaulipas'], ['Jamaica', 'Yucatn Peninsula'], ['The Bahamas', 'Florida', 'Georgia', 'The Carolinas', 'Virginia'], ['Southeastern United States', 'Northeastern United States', 'Southwestern Quebec'], ['Bermuda', 'New England', 'Atlantic Canada'], ['Lesser Antilles', 'Central America'], ['Texas', 'Louisiana', 'Midwestern United States'], ['Central America'], ['The Caribbean', 'Mexico', 'Texas'], ['Cuba', 'United States Gulf Coast'], ['The Caribbean', 'Central America', 'Mexico', 'United States Gulf Coast'], ['Mexico'], ['The Caribbean', 'United States East coast'], ['The Caribbean', 'Yucatn Peninsula', 'Mexico', 'South Texas'], ['Jamaica', 'Venezuela', 'Central America', 'Hispaniola', 'Mexico'], ['The Caribbean', 'United States East Coast'], ['The Bahamas', 'Florida', 'United States Gulf Coast'], ['Central America', 'Yucatn Peninsula', 'South Florida'], ['Greater Antilles', 'Bahamas', 'Eastern United States', 'Ontario'], ['The Caribbean', 'Venezuela', 'United States Gulf Coast'], ['Windward Islands', 'Jamaica', 'Mexico', 'Texas'], ['Bahamas', 'United States Gulf Coast'], ['Cuba', 'United States Gulf Coast'], ['Greater Antilles', 'Central America', 'Florida'], ['The Caribbean', 'Central America'], ['Nicaragua', 'Honduras'], ['Antilles', 'Venezuela', 'Colombia', 'United States East Coast', 'Atlantic Canada'], ['Cape Verde', 'The Caribbean', 'British Virgin Islands', 'U.S. Virgin Islands', 'Cuba', 'Florida'], ['Lesser Antilles', 'Virgin Islands', 'Puerto Rico', 'Dominican Republic', 'Turks and Caicos Islands'], ['Central America', 'United States Gulf Coast (especially Florida Panhandle)']]\n",
    "\n",
    "# Counting Damaged Areas\n",
    "def area_count_dic(names,areas_affected):\n",
    "    area_count={}\n",
    "    for storm in storms:\n",
    "        for areas in storms[storm]['areas_affected']:\n",
    "            if areas not in area_count:\n",
    "                area_count[areas]=1\n",
    "            \n",
    "            else:\n",
    "                area_count[areas]+=1\n",
    "                  \n",
    "    return area_count               \n",
    "\n",
    "print(area_count_dic(names,areas_affected))\n",
    "# create dictionary of areas to store the number of hurricanes involved in\n"
   ]
  },
  {
   "cell_type": "markdown",
   "id": "e015eeb3",
   "metadata": {},
   "source": [
    "5. Write a function that finds the area affected by the most hurricanes, and how often it was hit.\n",
    "\n",
    "   Test your function on your affected area dictionary."
   ]
  },
  {
   "cell_type": "code",
   "execution_count": 175,
   "id": "643c73f9",
   "metadata": {},
   "outputs": [
    {
     "name": "stdout",
     "output_type": "stream",
     "text": [
      "maximum time area hit 9\n",
      "None\n"
     ]
    }
   ],
   "source": [
    "# 5\n",
    "# Calculating Maximum Hurricane Count\n",
    "count_dic= area_count_dic(names,areas_affected)\n",
    "max_hit=max(count_dic.values())\n",
    "print(\"maximum time area hit \" + str(max_hit))\n",
    "print(count_dic.get(9))\n",
    "\n",
    "# find most frequently affected area and the number of hurricanes involved\n"
   ]
  },
  {
   "cell_type": "markdown",
   "id": "4c120f59",
   "metadata": {},
   "source": [
    "6. Write a function that finds the hurricane that caused the greatest number of deaths, and how many deaths it caused.\n",
    "\n",
    "   Test your function on your hurricane dictionary."
   ]
  },
  {
   "cell_type": "markdown",
   "id": "1da41d62",
   "metadata": {},
   "source": []
  },
  {
   "cell_type": "code",
   "execution_count": 206,
   "id": "ced02448",
   "metadata": {},
   "outputs": [
    {
     "name": "stdout",
     "output_type": "stream",
     "text": [
      "The deadliest storm was Mitch killing 19325 people.\n"
     ]
    }
   ],
   "source": [
    "# 6 confirmation number 5530956595\n",
    "# Calculating the Deadliest Hurricane\n",
    "def deadliest_hurricane(names, deaths):\n",
    "    death_count=0\n",
    "    deadliest_storm = {}\n",
    "    for storm in storms:\n",
    "        dcount=storms[storm]['deaths']\n",
    "        if dcount>death_count:\n",
    "            death_count=storms[storm]['deaths']\n",
    "            deadliest_storm=storms[storm]\n",
    "        continue\n",
    "    return print('The deadliest storm was ' + deadliest_storm['name']+ ' killing ' + str(deadliest_storm['deaths']) +' people.')\n",
    "    #return print()\n",
    "\n",
    "deadliest_hurricane(names, deaths)\n",
    "    \n",
    "\n",
    "# find highest mortality hurricane and the number of deaths\n"
   ]
  },
  {
   "cell_type": "markdown",
   "id": "9ddd39b0",
   "metadata": {},
   "source": [
    "7. Just as hurricanes are rated by their windspeed, you want to try rating hurricanes based on other metrics.\n",
    "\n",
    "   Write a function that rates hurricanes on a mortality scale according to the following ratings, where the key is the rating and the value is the upper bound of deaths for that rating.\n",
    "   \n",
    "   ```py\n",
    "   mortality_scale = {0: 0,\n",
    "   1: 100,\n",
    "   2: 500,\n",
    "   3: 1000,\n",
    "   4: 10000}\n",
    "   ```\n",
    "   \n",
    "   For example, a hurricane with a `1` mortality rating would have resulted in greater than `0` but less than or equal to `100` deaths. A hurricane with a `5` mortality would have resulted in greater than `10000` deaths.\n",
    "   \n",
    "   Store the hurricanes in a new dictionary where the keys are the mortaility ratings and the values are lists containing a dictionary for each hurricane that falls into that mortality rating.\n",
    "   \n",
    "   Test your function on your hurricane dictionary."
   ]
  },
  {
   "cell_type": "code",
   "execution_count": 291,
   "id": "9eea4dc7",
   "metadata": {},
   "outputs": [
    {
     "name": "stdout",
     "output_type": "stream",
     "text": [
      "{1: [{'name': 'Cuba I', 'months': 'October', 'year': 1924, 'max_sustained_winds': 165, 'areas_affected': ['Central America', 'Mexico', 'Cuba', 'Florida', 'The Bahamas'], 'damages': 'Damages not recorded', 'deaths': 90}, {'name': 'Bahamas', 'months': 'September', 'year': 1932, 'max_sustained_winds': 160, 'areas_affected': ['The Bahamas', 'Northeastern United States'], 'damages': 'Damages not recorded', 'deaths': 16}, {'name': 'Carol', 'months': 'September', 'year': 1953, 'max_sustained_winds': 160, 'areas_affected': ['Bermuda', 'New England', 'Atlantic Canada'], 'damages': '2M', 'deaths': 5}, {'name': 'Carla', 'months': 'September', 'year': 1961, 'max_sustained_winds': 175, 'areas_affected': ['Texas', 'Louisiana', 'Midwestern United States'], 'damages': '326M', 'deaths': 43}, {'name': 'Edith', 'months': 'September', 'year': 1971, 'max_sustained_winds': 160, 'areas_affected': ['The Caribbean', 'Central America', 'Mexico', 'United States Gulf Coast'], 'damages': '25.4M', 'deaths': 37}, {'name': 'Anita', 'months': 'September', 'year': 1977, 'max_sustained_winds': 175, 'areas_affected': ['Mexico'], 'damages': 'Damages not recorded', 'deaths': 11}, {'name': 'Andrew', 'months': 'August', 'year': 1992, 'max_sustained_winds': 175, 'areas_affected': ['The Bahamas', 'Florida', 'United States Gulf Coast'], 'damages': '26.5B', 'deaths': 65}, {'name': 'Isabel', 'months': 'September', 'year': 2003, 'max_sustained_winds': 165, 'areas_affected': ['Greater Antilles', 'Bahamas', 'Eastern United States', 'Ontario'], 'damages': '5.37B', 'deaths': 51}, {'name': 'Emily', 'months': 'July', 'year': 2005, 'max_sustained_winds': 160, 'areas_affected': ['Windward Islands', 'Jamaica', 'Mexico', 'Texas'], 'damages': '1.01B', 'deaths': 17}, {'name': 'Wilma', 'months': 'October', 'year': 2005, 'max_sustained_winds': 185, 'areas_affected': ['Greater Antilles', 'Central America', 'Florida'], 'damages': '29.4B', 'deaths': 87}, {'name': 'Dean', 'months': 'August', 'year': 2007, 'max_sustained_winds': 175, 'areas_affected': ['The Caribbean', 'Central America'], 'damages': '1.76B', 'deaths': 45}, {'name': 'Michael', 'months': 'October', 'year': 2018, 'max_sustained_winds': 160, 'areas_affected': ['Central America', 'United States Gulf Coast (especially Florida Panhandle)'], 'damages': '25.1B', 'deaths': 74}], 4: [{'name': 'San Felipe II Okeechobee', 'months': 'September', 'year': 1928, 'max_sustained_winds': 160, 'areas_affected': ['Lesser Antilles', 'The Bahamas', 'United States East Coast', 'Atlantic Canada'], 'damages': '100M', 'deaths': 4000}, {'name': 'Cuba II', 'months': 'November', 'year': 1932, 'max_sustained_winds': 175, 'areas_affected': ['Lesser Antilles', 'Jamaica', 'Cayman Islands', 'Cuba', 'The Bahamas', 'Bermuda'], 'damages': '40M', 'deaths': 3103}, {'name': 'Janet', 'months': 'September', 'year': 1955, 'max_sustained_winds': 175, 'areas_affected': ['Lesser Antilles', 'Central America'], 'damages': '65.8M', 'deaths': 1023}, {'name': 'David', 'months': 'August', 'year': 1979, 'max_sustained_winds': 175, 'areas_affected': ['The Caribbean', 'United States East coast'], 'damages': '1.54B', 'deaths': 2068}, {'name': 'Katrina', 'months': 'August', 'year': 2005, 'max_sustained_winds': 175, 'areas_affected': ['Bahamas', 'United States Gulf Coast'], 'damages': '125B', 'deaths': 1836}, {'name': 'Maria', 'months': 'September', 'year': 2017, 'max_sustained_winds': 175, 'areas_affected': ['Lesser Antilles', 'Virgin Islands', 'Puerto Rico', 'Dominican Republic', 'Turks and Caicos Islands'], 'damages': '91.6B', 'deaths': 3057}], 2: [{'name': 'CubaBrownsville', 'months': 'August', 'year': 1933, 'max_sustained_winds': 160, 'areas_affected': ['The Bahamas', 'Cuba', 'Florida', 'Texas', 'Tamaulipas'], 'damages': '27.9M', 'deaths': 179}, {'name': 'Tampico', 'months': 'September', 'year': 1933, 'max_sustained_winds': 160, 'areas_affected': ['Jamaica', 'Yucatn Peninsula'], 'damages': '5M', 'deaths': 184}, {'name': 'Labor Day', 'months': 'September', 'year': 1935, 'max_sustained_winds': 185, 'areas_affected': ['The Bahamas', 'Florida', 'Georgia', 'The Carolinas', 'Virginia'], 'damages': 'Damages not recorded', 'deaths': 408}, {'name': 'Hattie', 'months': 'October', 'year': 1961, 'max_sustained_winds': 160, 'areas_affected': ['Central America'], 'damages': '60.3M', 'deaths': 319}, {'name': 'Camille', 'months': 'August', 'year': 1969, 'max_sustained_winds': 175, 'areas_affected': ['Cuba', 'United States Gulf Coast'], 'damages': '1.42B', 'deaths': 259}, {'name': 'Allen', 'months': 'August', 'year': 1980, 'max_sustained_winds': 190, 'areas_affected': ['The Caribbean', 'Yucatn Peninsula', 'Mexico', 'South Texas'], 'damages': '1.24B', 'deaths': 269}, {'name': 'Gilbert', 'months': 'September', 'year': 1988, 'max_sustained_winds': 185, 'areas_affected': ['Jamaica', 'Venezuela', 'Central America', 'Hispaniola', 'Mexico'], 'damages': '7.1B', 'deaths': 318}, {'name': 'Hugo', 'months': 'September', 'year': 1989, 'max_sustained_winds': 160, 'areas_affected': ['The Caribbean', 'United States East Coast'], 'damages': '10B', 'deaths': 107}, {'name': 'Ivan', 'months': 'September', 'year': 2004, 'max_sustained_winds': 165, 'areas_affected': ['The Caribbean', 'Venezuela', 'United States Gulf Coast'], 'damages': '23.3B', 'deaths': 124}, {'name': 'Rita', 'months': 'September', 'year': 2005, 'max_sustained_winds': 180, 'areas_affected': ['Cuba', 'United States Gulf Coast'], 'damages': '12B', 'deaths': 125}, {'name': 'Felix', 'months': 'September', 'year': 2007, 'max_sustained_winds': 175, 'areas_affected': ['Nicaragua', 'Honduras'], 'damages': '720M', 'deaths': 133}, {'name': 'Irma', 'months': 'September', 'year': 2017, 'max_sustained_winds': 180, 'areas_affected': ['Cape Verde', 'The Caribbean', 'British Virgin Islands', 'U.S. Virgin Islands', 'Cuba', 'Florida'], 'damages': '64.8B', 'deaths': 138}], 3: [{'name': 'New England', 'months': 'September', 'year': 1938, 'max_sustained_winds': 160, 'areas_affected': ['Southeastern United States', 'Northeastern United States', 'Southwestern Quebec'], 'damages': '306M', 'deaths': 682}, {'name': 'Beulah', 'months': 'September', 'year': 1967, 'max_sustained_winds': 160, 'areas_affected': ['The Caribbean', 'Mexico', 'Texas'], 'damages': '208M', 'deaths': 688}, {'name': 'Matthew', 'months': 'October', 'year': 2016, 'max_sustained_winds': 165, 'areas_affected': ['Antilles', 'Venezuela', 'Colombia', 'United States East Coast', 'Atlantic Canada'], 'damages': '15.1B', 'deaths': 603}], 5: [{'name': 'Mitch', 'months': 'October', 'year': 1998, 'max_sustained_winds': 180, 'areas_affected': ['Central America', 'Yucatn Peninsula', 'South Florida'], 'damages': '6.2B', 'deaths': 19325}]}\n",
      "[{'name': 'San Felipe II Okeechobee', 'months': 'September', 'year': 1928, 'max_sustained_winds': 160, 'areas_affected': ['Lesser Antilles', 'The Bahamas', 'United States East Coast', 'Atlantic Canada'], 'damages': '100M', 'deaths': 4000}, {'name': 'Cuba II', 'months': 'November', 'year': 1932, 'max_sustained_winds': 175, 'areas_affected': ['Lesser Antilles', 'Jamaica', 'Cayman Islands', 'Cuba', 'The Bahamas', 'Bermuda'], 'damages': '40M', 'deaths': 3103}, {'name': 'Janet', 'months': 'September', 'year': 1955, 'max_sustained_winds': 175, 'areas_affected': ['Lesser Antilles', 'Central America'], 'damages': '65.8M', 'deaths': 1023}, {'name': 'David', 'months': 'August', 'year': 1979, 'max_sustained_winds': 175, 'areas_affected': ['The Caribbean', 'United States East coast'], 'damages': '1.54B', 'deaths': 2068}, {'name': 'Katrina', 'months': 'August', 'year': 2005, 'max_sustained_winds': 175, 'areas_affected': ['Bahamas', 'United States Gulf Coast'], 'damages': '125B', 'deaths': 1836}, {'name': 'Maria', 'months': 'September', 'year': 2017, 'max_sustained_winds': 175, 'areas_affected': ['Lesser Antilles', 'Virgin Islands', 'Puerto Rico', 'Dominican Republic', 'Turks and Caicos Islands'], 'damages': '91.6B', 'deaths': 3057}]\n"
     ]
    }
   ],
   "source": [
    "# 7\n",
    "# Rating Hurricanes by Mortality\n",
    "mortality_scale = {0: 0,1: 100,2: 500,3: 1000,4: 10000}\n",
    "\n",
    "hurricane_mortality_ratings={}\n",
    "storms=by_name_hurricane_dic(names,months,years, max_sustained_winds, areas_affected, damages, deaths)\n",
    "def hurricanes_by_mortality_scale(mortality_scale, storms):\n",
    "    scale_zero=[]\n",
    "    scale_one=[]\n",
    "    scale_two=[]\n",
    "    scale_three=[]\n",
    "    scale_four=[]\n",
    "    scale_five=[]\n",
    "    for storm in storms:\n",
    "        if storms[storm]['deaths']== mortality_scale[0]:\n",
    "            scale_zero.append(storms[storm])\n",
    "            hurricane_mortality_ratings[0]=scale_zero\n",
    "           \n",
    "        elif storms[storm]['deaths']>mortality_scale[0] and storms[storm]['deaths']<= mortality_scale[1]:\n",
    "        \n",
    "            scale_one.append(storms[storm])\n",
    "            hurricane_mortality_ratings[1]=scale_one\n",
    "           \n",
    "        elif storms[storm]['deaths']>mortality_scale[1] and storms[storm]['deaths']<= mortality_scale[2]:\n",
    "            scale_two.append(storms[storm])\n",
    "            hurricane_mortality_ratings[2]=scale_two\n",
    "        elif storms[storm]['deaths']>mortality_scale[2] and storms[storm]['deaths']<= mortality_scale[3]:\n",
    "            scale_three.append(storms[storm])\n",
    "            hurricane_mortality_ratings[3]=scale_three\n",
    "        elif storms[storm]['deaths']>mortality_scale[3] and storms[storm]['deaths']<= mortality_scale[4]:\n",
    "            scale_four.append(storms[storm])\n",
    "            hurricane_mortality_ratings[4]=scale_four\n",
    "        else:\n",
    "            scale_five.append(storms[storm])\n",
    "            hurricane_mortality_ratings[5]=scale_five\n",
    "        \n",
    "    return hurricane_mortality_ratings\n",
    "\n",
    "print(hurricanes_by_mortality_scale(mortality_scale, storms))\n",
    "category=hurricanes_by_mortality_scale(mortality_scale, storms)\n",
    "print(category[4])\n",
    "            \n",
    "# categorize hurricanes in new dictionary with mortality severity as key\n"
   ]
  },
  {
   "cell_type": "markdown",
   "id": "199b0e1c",
   "metadata": {},
   "source": [
    "8. Write a function that finds the hurricane that caused the greatest damage, and how costly it was.\n",
    "\n",
    "   Test your function on your hurricane dictionary."
   ]
  },
  {
   "cell_type": "markdown",
   "id": "5e6714e6",
   "metadata": {},
   "source": []
  },
  {
   "cell_type": "code",
   "execution_count": 296,
   "id": "b3dc79b4",
   "metadata": {},
   "outputs": [
    {
     "ename": "TypeError",
     "evalue": "argument of type 'float' is not iterable",
     "output_type": "error",
     "traceback": [
      "\u001b[0;31m---------------------------------------------------------------------------\u001b[0m",
      "\u001b[0;31mTypeError\u001b[0m                                 Traceback (most recent call last)",
      "Cell \u001b[0;32mIn[296], line 3\u001b[0m\n\u001b[1;32m      1\u001b[0m \u001b[38;5;66;03m# 8\u001b[39;00m\n\u001b[1;32m      2\u001b[0m storms\u001b[38;5;241m=\u001b[39mby_name_hurricane_dic(names,months,years, max_sustained_winds, areas_affected, damages, deaths)\n\u001b[0;32m----> 3\u001b[0m update_damages(damages, conversion)\n\u001b[1;32m      5\u001b[0m \u001b[38;5;28;01mdef\u001b[39;00m \u001b[38;5;21mdamage_cost\u001b[39m(storms):\n\u001b[1;32m      6\u001b[0m     damages\u001b[38;5;241m=\u001b[39mupdate_damages(damages, conversion)\n",
      "Cell \u001b[0;32mIn[13], line 19\u001b[0m, in \u001b[0;36mupdate_damages\u001b[0;34m(damages, conversion)\u001b[0m\n\u001b[1;32m     17\u001b[0m \u001b[38;5;28;01mif\u001b[39;00m item \u001b[38;5;241m==\u001b[39m\u001b[38;5;124m'\u001b[39m\u001b[38;5;124mDamages not recorded\u001b[39m\u001b[38;5;124m'\u001b[39m:\n\u001b[1;32m     18\u001b[0m     \u001b[38;5;28;01mcontinue\u001b[39;00m\n\u001b[0;32m---> 19\u001b[0m \u001b[38;5;28;01mif\u001b[39;00m \u001b[38;5;124m'\u001b[39m\u001b[38;5;124mM\u001b[39m\u001b[38;5;124m'\u001b[39m \u001b[38;5;129;01min\u001b[39;00m item:\n\u001b[1;32m     20\u001b[0m     index \u001b[38;5;241m=\u001b[39m damages\u001b[38;5;241m.\u001b[39mindex(item)\n\u001b[1;32m     21\u001b[0m     \u001b[38;5;66;03m#strip off last character, convert to float, multiply by conversion['M']\u001b[39;00m\n",
      "\u001b[0;31mTypeError\u001b[0m: argument of type 'float' is not iterable"
     ]
    }
   ],
   "source": [
    "# 8\n",
    "storms=by_name_hurricane_dic(names,months,years, max_sustained_winds, areas_affected, damages, deaths)\n",
    "update_damages(damages, conversion)\n",
    "\n",
    "def damage_cost(storms):\n",
    "    damages=update_damages(damages, conversion)\n",
    "    print(damages)\n",
    "    #for storm in storms:\n",
    "       \n",
    "damage_cost(storms)\n",
    "# Calculating Hurricane Maximum Damage\n",
    "\n",
    "# find highest damage inducing hurricane and its total cost\n"
   ]
  },
  {
   "cell_type": "markdown",
   "id": "58d22ddc",
   "metadata": {},
   "source": [
    "9. Lastly, you want to rate hurricanes according to how much damage they cause.\n",
    "\n",
    "   Write a function that rates hurricanes on a damage scale according to the following ratings, where the key is the rating and the value is the upper bound of damage for that rating.\n",
    "   ```py\n",
    "   damage_scale = {0: 0,\n",
    "   1: 100000000,\n",
    "   2: 1000000000,\n",
    "   3: 10000000000,\n",
    "   4: 50000000000}\n",
    "   ```\n",
    "   \n",
    "   For example, a hurricane with a `1` damage rating would have resulted in damages greater than `0` USD but less than or equal to `100000000` USD. A hurricane with a `5` damage rating would have resulted in damages greater than `50000000000` USD (talk about a lot of money).\n",
    "   \n",
    "   Store the hurricanes in a new dictionary where the keys are damage ratings and the values are lists containing a dictionary for each hurricane that falls into that damage rating.\n",
    "   \n",
    "   Test your function on your hurricane dictionary."
   ]
  },
  {
   "cell_type": "code",
   "execution_count": 3,
   "id": "e543f487",
   "metadata": {},
   "outputs": [],
   "source": [
    "# 9\n",
    "# Rating Hurricanes by Damage\n",
    "damage_scale = {0: 0,\n",
    "                1: 100000000,\n",
    "                2: 1000000000,\n",
    "                3: 10000000000,\n",
    "                4: 50000000000}\n",
    "\n",
    "# categorize hurricanes in new dictionary with damage severity as key\n"
   ]
  },
  {
   "cell_type": "markdown",
   "id": "928c5fd2",
   "metadata": {},
   "source": [
    "## Solution"
   ]
  },
  {
   "cell_type": "markdown",
   "id": "252616a3",
   "metadata": {},
   "source": [
    "Great work! View the **Hurricane Analysis_Solution.ipynb** file or visit [our forums](https://discuss.codecademy.com/t/hurricane-analysis-challenge-project-python/462363) to compare your project to our sample solution code. You can also learn how to host your own solution on GitHub so you can share it with other learners! Your solution might look different than ours, and that's okay! There are multiple ways to solve these projects, and you'll learn more by seeing others' code."
   ]
  },
  {
   "cell_type": "code",
   "execution_count": null,
   "id": "da8f7141",
   "metadata": {},
   "outputs": [],
   "source": []
  }
 ],
 "metadata": {
  "kernelspec": {
   "display_name": "Python 3 (ipykernel)",
   "language": "python",
   "name": "python3"
  },
  "language_info": {
   "codemirror_mode": {
    "name": "ipython",
    "version": 3
   },
   "file_extension": ".py",
   "mimetype": "text/x-python",
   "name": "python",
   "nbconvert_exporter": "python",
   "pygments_lexer": "ipython3",
   "version": "3.11.5"
  },
  "vscode": {
   "interpreter": {
    "hash": "b784193cf0f9970b27f3c12f21dbff8ed97e3cf923dc23fe210654173bc3fdd0"
   }
  }
 },
 "nbformat": 4,
 "nbformat_minor": 5
}
